{
 "cells": [
  {
   "cell_type": "markdown",
   "metadata": {},
   "source": [
    "# Analise usando Querys"
   ]
  },
  {
   "cell_type": "code",
   "execution_count": 1,
   "metadata": {},
   "outputs": [],
   "source": [
    "import numpy as np\n",
    "import pandas as pd\n",
    "\n",
    "import seaborn as sns\n",
    "import matplotlib.pyplot as plt"
   ]
  },
  {
   "cell_type": "code",
   "execution_count": 2,
   "metadata": {},
   "outputs": [
    {
     "data": {
      "text/plain": [
       "(216, 7)"
      ]
     },
     "execution_count": 2,
     "metadata": {},
     "output_type": "execute_result"
    }
   ],
   "source": [
    "data = pd.read_csv('Dados/movehubcostofliving.csv')\n",
    "data.shape"
   ]
  },
  {
   "cell_type": "code",
   "execution_count": 3,
   "metadata": {},
   "outputs": [
    {
     "data": {
      "text/html": [
       "<div>\n",
       "<style scoped>\n",
       "    .dataframe tbody tr th:only-of-type {\n",
       "        vertical-align: middle;\n",
       "    }\n",
       "\n",
       "    .dataframe tbody tr th {\n",
       "        vertical-align: top;\n",
       "    }\n",
       "\n",
       "    .dataframe thead th {\n",
       "        text-align: right;\n",
       "    }\n",
       "</style>\n",
       "<table border=\"1\" class=\"dataframe\">\n",
       "  <thead>\n",
       "    <tr style=\"text-align: right;\">\n",
       "      <th></th>\n",
       "      <th>City</th>\n",
       "      <th>Cappuccino</th>\n",
       "      <th>Cinema</th>\n",
       "      <th>Wine</th>\n",
       "      <th>Gasoline</th>\n",
       "      <th>Avg Rent</th>\n",
       "      <th>Avg Disposable Income</th>\n",
       "    </tr>\n",
       "  </thead>\n",
       "  <tbody>\n",
       "    <tr>\n",
       "      <th>0</th>\n",
       "      <td>Lausanne</td>\n",
       "      <td>3.15</td>\n",
       "      <td>12.59</td>\n",
       "      <td>8.40</td>\n",
       "      <td>1.32</td>\n",
       "      <td>1714.00</td>\n",
       "      <td>4266.11</td>\n",
       "    </tr>\n",
       "    <tr>\n",
       "      <th>1</th>\n",
       "      <td>Zurich</td>\n",
       "      <td>3.28</td>\n",
       "      <td>12.59</td>\n",
       "      <td>8.40</td>\n",
       "      <td>1.31</td>\n",
       "      <td>2378.61</td>\n",
       "      <td>4197.55</td>\n",
       "    </tr>\n",
       "    <tr>\n",
       "      <th>2</th>\n",
       "      <td>Geneva</td>\n",
       "      <td>2.80</td>\n",
       "      <td>12.94</td>\n",
       "      <td>10.49</td>\n",
       "      <td>1.28</td>\n",
       "      <td>2607.95</td>\n",
       "      <td>3917.72</td>\n",
       "    </tr>\n",
       "    <tr>\n",
       "      <th>3</th>\n",
       "      <td>Basel</td>\n",
       "      <td>3.50</td>\n",
       "      <td>11.89</td>\n",
       "      <td>7.35</td>\n",
       "      <td>1.25</td>\n",
       "      <td>1649.29</td>\n",
       "      <td>3847.76</td>\n",
       "    </tr>\n",
       "    <tr>\n",
       "      <th>4</th>\n",
       "      <td>Perth</td>\n",
       "      <td>2.87</td>\n",
       "      <td>11.43</td>\n",
       "      <td>10.08</td>\n",
       "      <td>0.97</td>\n",
       "      <td>2083.14</td>\n",
       "      <td>3358.55</td>\n",
       "    </tr>\n",
       "  </tbody>\n",
       "</table>\n",
       "</div>"
      ],
      "text/plain": [
       "       City  Cappuccino  Cinema   Wine  Gasoline  Avg Rent  \\\n",
       "0  Lausanne        3.15   12.59   8.40      1.32   1714.00   \n",
       "1    Zurich        3.28   12.59   8.40      1.31   2378.61   \n",
       "2    Geneva        2.80   12.94  10.49      1.28   2607.95   \n",
       "3     Basel        3.50   11.89   7.35      1.25   1649.29   \n",
       "4     Perth        2.87   11.43  10.08      0.97   2083.14   \n",
       "\n",
       "   Avg Disposable Income  \n",
       "0                4266.11  \n",
       "1                4197.55  \n",
       "2                3917.72  \n",
       "3                3847.76  \n",
       "4                3358.55  "
      ]
     },
     "execution_count": 3,
     "metadata": {},
     "output_type": "execute_result"
    }
   ],
   "source": [
    "data.head()"
   ]
  },
  {
   "cell_type": "code",
   "execution_count": 5,
   "metadata": {},
   "outputs": [
    {
     "name": "stdout",
     "output_type": "stream",
     "text": [
      "The Places where Cappuccino is Very Cheap\n",
      "          City  Cappuccino\n",
      "0  Addis Ababa        0.46\n",
      "1        Kochi        0.60\n",
      "2      Chennai        0.66\n",
      "3        Porto        0.68\n",
      "4    Ahmedabad        0.72\n"
     ]
    }
   ],
   "source": [
    "# Onde o Cappuccino é mais barato?\n",
    "print(data[['City','Cappuccino']].sort_values(by = 'Cappuccino').head(5).reset_index(drop = True))"
   ]
  },
  {
   "cell_type": "code",
   "execution_count": 6,
   "metadata": {},
   "outputs": [
    {
     "name": "stdout",
     "output_type": "stream",
     "text": [
      "         City  Cappuccino\n",
      "0   Stavanger        4.48\n",
      "1      Bergen        3.92\n",
      "2   Nashville        3.84\n",
      "3   Trondheim        3.81\n",
      "4  Copenhagen        3.66\n"
     ]
    }
   ],
   "source": [
    "# Onde o Cappuccino é mais caro?\n",
    "print(data[['City','Cappuccino']].sort_values(by = 'Cappuccino',ascending = False).head(5).reset_index(drop = True))"
   ]
  },
  {
   "cell_type": "code",
   "execution_count": 7,
   "metadata": {},
   "outputs": [
    {
     "name": "stdout",
     "output_type": "stream",
     "text": [
      "        City  Cinema\n",
      "0  Hyderabad    1.81\n",
      "1    Chennai    1.81\n",
      "2      Kochi    1.81\n",
      "3      Davao    1.90\n",
      "4      Dhaka    2.09\n"
     ]
    }
   ],
   "source": [
    "# Onde o Cinema é mais barato?\n",
    "print(data[['City','Cinema']].sort_values(by = 'Cinema').head(5).reset_index(drop = True))"
   ]
  },
  {
   "cell_type": "code",
   "execution_count": 8,
   "metadata": {},
   "outputs": [
    {
     "name": "stdout",
     "output_type": "stream",
     "text": [
      "       City  Cinema\n",
      "0    Riyadh   79.49\n",
      "1  Brighton   14.95\n",
      "2    Geneva   12.94\n",
      "3  Lausanne   12.59\n",
      "4    Zurich   12.59\n"
     ]
    }
   ],
   "source": [
    "# Onde o Cinema é mais caro?\n",
    "print(data[['City','Cinema']].sort_values(by = 'Cinema',ascending = False).head(5).reset_index(drop = True))"
   ]
  },
  {
   "cell_type": "code",
   "execution_count": 9,
   "metadata": {},
   "outputs": [
    {
     "name": "stdout",
     "output_type": "stream",
     "text": [
      "        City  Wine\n",
      "0      Braga  2.13\n",
      "1   Budapest  2.85\n",
      "2  Bucharest  2.94\n",
      "3     Lisbon  2.98\n",
      "4     Malaga  2.98\n"
     ]
    }
   ],
   "source": [
    "# Onde o Vinho é mais barato?\n",
    "print(data[['City','Wine']].sort_values(by = 'Wine').head(5).reset_index(drop = True))"
   ]
  },
  {
   "cell_type": "code",
   "execution_count": 10,
   "metadata": {},
   "outputs": [
    {
     "name": "stdout",
     "output_type": "stream",
     "text": [
      "        City   Wine\n",
      "0     Tehran  26.15\n",
      "1     Manama  19.61\n",
      "2     Riyadh  17.43\n",
      "3    Jakarta  16.83\n",
      "4  Singapore  15.82\n"
     ]
    }
   ],
   "source": [
    "# Onde o Vinho é mais caro?\n",
    "print(data[['City','Wine']].sort_values(by = 'Wine',ascending = False).head(5).reset_index(drop = True))"
   ]
  },
  {
   "cell_type": "code",
   "execution_count": 11,
   "metadata": {},
   "outputs": [
    {
     "name": "stdout",
     "output_type": "stream",
     "text": [
      "      City  Gasoline\n",
      "0  Caracas      0.07\n",
      "1   Riyadh      0.08\n",
      "2   Manama      0.17\n",
      "3     Doha      0.18\n",
      "4    Cairo      0.19\n"
     ]
    }
   ],
   "source": [
    "# Onde a Gasolina é mais barato?\n",
    "print(data[['City','Gasoline']].sort_values(by = 'Gasoline').head(5).reset_index(drop = True))"
   ]
  },
  {
   "cell_type": "code",
   "execution_count": 12,
   "metadata": {},
   "outputs": [
    {
     "name": "stdout",
     "output_type": "stream",
     "text": [
      "        City  Gasoline\n",
      "0      Izmir      1.69\n",
      "1  Stavanger      1.68\n",
      "2   Istanbul      1.66\n",
      "3    Antalya      1.62\n",
      "4     Bergen      1.57\n"
     ]
    }
   ],
   "source": [
    "# Onde a Gasolina é mais caro?\n",
    "print(data[['City','Gasoline']].sort_values(by = 'Gasoline',ascending = False).head(5).reset_index(drop = True))"
   ]
  },
  {
   "cell_type": "code",
   "execution_count": 13,
   "metadata": {},
   "outputs": [
    {
     "name": "stdout",
     "output_type": "stream",
     "text": [
      "        City  Avg Rent\n",
      "0   Vadodara    120.68\n",
      "1      Kochi    181.02\n",
      "2  Ahmedabad    193.08\n",
      "3    Karachi    197.78\n",
      "4     Indore    205.15\n"
     ]
    }
   ],
   "source": [
    "# Onde o Aluguel é mais barato?\n",
    "print(data[['City','Avg Rent']].sort_values(by = 'Avg Rent').head(5).reset_index(drop = True))"
   ]
  },
  {
   "cell_type": "code",
   "execution_count": 14,
   "metadata": {},
   "outputs": [
    {
     "name": "stdout",
     "output_type": "stream",
     "text": [
      "        City  Avg Rent\n",
      "0  Hong Kong   5052.31\n",
      "1   New York   3268.84\n",
      "2  Singapore   3164.42\n",
      "3     Sydney   2788.71\n",
      "4     Geneva   2607.95\n"
     ]
    }
   ],
   "source": [
    "# Onde o Aluguel é mais caro?\n",
    "print(data[['City','Avg Rent']].sort_values(by = 'Avg Rent', ascending = False).head(5).reset_index(drop = True))"
   ]
  },
  {
   "cell_type": "code",
   "execution_count": 15,
   "metadata": {},
   "outputs": [
    {
     "name": "stdout",
     "output_type": "stream",
     "text": [
      "          City  Avg Disposable Income\n",
      "0       Indore                 120.68\n",
      "1  Addis Ababa                 124.22\n",
      "2       Lahore                 132.95\n",
      "3      Karachi                 139.60\n",
      "4        Davao                 158.34\n"
     ]
    }
   ],
   "source": [
    "# Onde é a cidade mais barata?\n",
    "print(data[['City','Avg Disposable Income']].sort_values(by = 'Avg Disposable Income').head(5).reset_index(drop = True))"
   ]
  },
  {
   "cell_type": "code",
   "execution_count": 16,
   "metadata": {},
   "outputs": [
    {
     "name": "stdout",
     "output_type": "stream",
     "text": [
      "       City  Avg Disposable Income\n",
      "0  Lausanne                4266.11\n",
      "1    Zurich                4197.55\n",
      "2    Geneva                3917.72\n",
      "3     Basel                3847.76\n",
      "4     Perth                3358.55\n"
     ]
    }
   ],
   "source": [
    "# Onde é a cidade mais cara?\n",
    "print(data[['City','Avg Disposable Income']].sort_values(by = 'Avg Disposable Income',\n",
    "                                                    ascending = False).head(5).reset_index(drop = True))"
   ]
  },
  {
   "cell_type": "code",
   "execution_count": null,
   "metadata": {},
   "outputs": [],
   "source": []
  }
 ],
 "metadata": {
  "kernelspec": {
   "display_name": "Python 3",
   "language": "python",
   "name": "python3"
  },
  "language_info": {
   "codemirror_mode": {
    "name": "ipython",
    "version": 3
   },
   "file_extension": ".py",
   "mimetype": "text/x-python",
   "name": "python",
   "nbconvert_exporter": "python",
   "pygments_lexer": "ipython3",
   "version": "3.8.5"
  }
 },
 "nbformat": 4,
 "nbformat_minor": 4
}
